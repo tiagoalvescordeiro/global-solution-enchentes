{
 "cells": [
  {
   "cell_type": "markdown",
   "id": "d8efd49d",
   "metadata": {},
   "source": [
    "# 🌊 Previsão de Enchentes com Random Forest\n",
    "Projeto de Machine Learning - Global Solution FIAP 2025.1"
   ]
  },
  {
   "cell_type": "code",
   "execution_count": null,
   "id": "ad26bfeb",
   "metadata": {},
   "outputs": [],
   "source": [
    "import pandas as pd\n",
    "import numpy as np\n",
    "from sklearn.ensemble import RandomForestClassifier\n",
    "from sklearn.model_selection import train_test_split\n",
    "from sklearn.metrics import classification_report, confusion_matrix\n",
    "import matplotlib.pyplot as plt\n",
    "import joblib"
   ]
  },
  {
   "cell_type": "markdown",
   "id": "87ad6091",
   "metadata": {},
   "source": [
    "## 📥 Carregamento dos dados"
   ]
  },
  {
   "cell_type": "code",
   "execution_count": null,
   "id": "89dee080",
   "metadata": {},
   "outputs": [],
   "source": [
    "df = pd.read_csv('../data/dados_enchentes.csv')\n",
    "df.head()"
   ]
  },
  {
   "cell_type": "markdown",
   "id": "e92fc66c",
   "metadata": {},
   "source": [
    "## 🔧 Pré-processamento"
   ]
  },
  {
   "cell_type": "code",
   "execution_count": null,
   "id": "fea2776b",
   "metadata": {},
   "outputs": [],
   "source": [
    "df['tendencia_rio'] = df['tendencia_rio'].map({'subindo': 1, 'descendo': -1, 'estável': 0})\n",
    "\n",
    "X = df.drop('risco_enchente', axis=1)\n",
    "y = df['risco_enchente']\n",
    "\n",
    "X_train, X_test, y_train, y_test = train_test_split(X, y, test_size=0.2, random_state=42)"
   ]
  },
  {
   "cell_type": "markdown",
   "id": "e83cf766",
   "metadata": {},
   "source": [
    "## 🤖 Treinamento com Random Forest"
   ]
  },
  {
   "cell_type": "code",
   "execution_count": null,
   "id": "05dfa1ce",
   "metadata": {},
   "outputs": [],
   "source": [
    "modelo = RandomForestClassifier(n_estimators=100, random_state=42)\n",
    "modelo.fit(X_train, y_train)\n",
    "y_pred = modelo.predict(X_test)"
   ]
  },
  {
   "cell_type": "markdown",
   "id": "d569f53f",
   "metadata": {},
   "source": [
    "## 📊 Avaliação do Modelo"
   ]
  },
  {
   "cell_type": "code",
   "execution_count": null,
   "id": "f205dc56",
   "metadata": {},
   "outputs": [],
   "source": [
    "print(confusion_matrix(y_test, y_pred))\n",
    "print(classification_report(y_test, y_pred))"
   ]
  },
  {
   "cell_type": "markdown",
   "id": "48d758f6",
   "metadata": {},
   "source": [
    "## 🌟 Importância das Variáveis"
   ]
  },
  {
   "cell_type": "code",
   "execution_count": null,
   "id": "2db36ac8",
   "metadata": {},
   "outputs": [],
   "source": [
    "importancias = modelo.feature_importances_\n",
    "nomes_variaveis = X.columns\n",
    "\n",
    "plt.figure(figsize=(10, 6))\n",
    "plt.barh(nomes_variaveis, importancias, color='orange')\n",
    "plt.xlabel('Importância')\n",
    "plt.title('Importância das Variáveis - Random Forest')\n",
    "plt.gca().invert_yaxis()\n",
    "plt.grid(True)\n",
    "plt.show()"
   ]
  },
  {
   "cell_type": "markdown",
   "id": "8f5ea15e",
   "metadata": {},
   "source": [
    "## 💾 Exportar modelo"
   ]
  },
  {
   "cell_type": "code",
   "execution_count": null,
   "id": "79348c49",
   "metadata": {},
   "outputs": [],
   "source": [
    "joblib.dump(modelo, '../modelo/modelo_risco.pkl')"
   ]
  }
 ],
 "metadata": {},
 "nbformat": 4,
 "nbformat_minor": 5
}
